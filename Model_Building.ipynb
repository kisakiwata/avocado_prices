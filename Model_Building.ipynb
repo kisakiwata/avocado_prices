{
  "nbformat": 4,
  "nbformat_minor": 0,
  "metadata": {
    "kernelspec": {
      "display_name": "Python 3",
      "language": "python",
      "name": "python3"
    },
    "language_info": {
      "codemirror_mode": {
        "name": "ipython",
        "version": 3
      },
      "file_extension": ".py",
      "mimetype": "text/x-python",
      "name": "python",
      "nbconvert_exporter": "python",
      "pygments_lexer": "ipython3",
      "version": "3.7.4"
    },
    "colab": {
      "name": "Model_Building.ipynb",
      "provenance": []
    }
  },
  "cells": [
    {
      "cell_type": "code",
      "metadata": {
        "colab": {
          "base_uri": "https://localhost:8080/"
        },
        "id": "KI3-9utdBoNv",
        "outputId": "2723470c-a6c4-4143-f91c-6ef89e8c524a"
      },
      "source": [
        "\n",
        "import pandas as pd\n",
        "import numpy as np\n",
        "import seaborn as sns\n",
        "import matplotlib.pyplot as plt\n",
        "import io\n",
        "from google.colab import drive \n",
        "drive.mount('/content/gdrive')\n",
        "%matplotlib inline\n",
        "\n",
        "avo = pd.read_csv('gdrive/My Drive/Colab Notebooks/avocado.csv')"
      ],
      "execution_count": 4,
      "outputs": [
        {
          "output_type": "stream",
          "text": [
            "Mounted at /content/gdrive\n"
          ],
          "name": "stdout"
        }
      ]
    },
    {
      "cell_type": "code",
      "metadata": {
        "id": "m-zOdFi4BoNv"
      },
      "source": [
        "\n",
        "## Parsing Date to datetime\n",
        "def parse_date(d):\n",
        "     return pd.to_datetime(d, format='%Y-%m-%d')\n",
        "\n",
        "avo['Date'] = avo['Date'].apply(parse_date)"
      ],
      "execution_count": 5,
      "outputs": []
    },
    {
      "cell_type": "code",
      "metadata": {
        "id": "srgFBBy2BoN0"
      },
      "source": [
        "from scipy.stats import norm\n",
        "from sklearn.preprocessing import StandardScaler\n",
        "from scipy import stats\n",
        "import warnings\n",
        "warnings.filterwarnings('ignore')\n",
        "#import dtale"
      ],
      "execution_count": 6,
      "outputs": []
    },
    {
      "cell_type": "code",
      "metadata": {
        "id": "OF0nPSe2BoN0",
        "colab": {
          "base_uri": "https://localhost:8080/"
        },
        "outputId": "6340d121-f292-4e4e-b8fd-0e6043c0ee40"
      },
      "source": [
        "\n",
        "y_ = avo[[\"AveragePrice\"]]\n",
        "X_ = avo.drop([\"AveragePrice\"], axis=1)\n",
        "print(X_.shape)\n",
        "print(y_.shape)"
      ],
      "execution_count": 7,
      "outputs": [
        {
          "output_type": "stream",
          "text": [
            "(18249, 13)\n",
            "(18249, 1)\n"
          ],
          "name": "stdout"
        }
      ]
    },
    {
      "cell_type": "markdown",
      "metadata": {
        "id": "5mGUPIBABoN0"
      },
      "source": [
        "## Preprocessing"
      ]
    },
    {
      "cell_type": "code",
      "metadata": {
        "id": "eoQdBK_zBoN0"
      },
      "source": [
        "## https://towardsdatascience.com/categorical-encoding-techniques-93ebd18e1f24\n",
        "\n",
        "## For categorical features, if ordinal, apply ordinal encoder, and for nominal features, use one hot encoder.\n",
        "\n",
        "from sklearn.preprocessing import OrdinalEncoder\n",
        "from sklearn.preprocessing import OneHotEncoder\n",
        "from sklearn.preprocessing import StandardScaler\n",
        "\n",
        "ord_ = OrdinalEncoder()\n",
        "ohe = OneHotEncoder(drop='first', sparse = False)\n",
        "scaler = StandardScaler()\n",
        "\n",
        "#dummify region column\n",
        "region=pd.get_dummies(X_['region'], drop_first=True)\n",
        "X_ = pd.concat( (X_.drop([\"region\"], axis=1).reset_index(drop = True), region), axis = 1 )\n",
        "\n",
        "#Binary feature encoding; replacing the type {conventional, organic} into {0,1}\n",
        "X_['type'] = X_['type'].astype(object)\n",
        "X_['type']=X_['type'].replace({'conventional':0, 'organic':1})\n",
        "\n",
        "## use standard scaler to standardize numeric columns\n",
        "\n",
        "X_[['Total Volume', '4046', '4225', '4770', 'Total Bags', 'Small Bags', 'Large Bags', 'XLarge Bags']]=scaler.fit_transform(X_[['Total Volume', '4046', '4225', '4770', 'Total Bags', 'Small Bags', 'Large Bags', 'XLarge Bags']])"
      ],
      "execution_count": 8,
      "outputs": []
    },
    {
      "cell_type": "code",
      "metadata": {
        "id": "oWIZ_FbdBoN0"
      },
      "source": [
        "#extract only month and year from the data\n",
        "X_['year']=X_['Date'].dt.year.astype('float')\n",
        "X_['month']=X_['Date'].dt.month.astype('float')"
      ],
      "execution_count": 9,
      "outputs": []
    },
    {
      "cell_type": "code",
      "metadata": {
        "id": "QbVJbCZCBoN0"
      },
      "source": [
        "X_=X_.drop('Date', axis=1)"
      ],
      "execution_count": 10,
      "outputs": []
    },
    {
      "cell_type": "code",
      "metadata": {
        "id": "UN1X4vybBoN0"
      },
      "source": [
        "np.random.seed(0)\n",
        "from sklearn.model_selection import train_test_split\n",
        "\n",
        "Xtrain, Xtest, ytrain, ytest = train_test_split( X_,y_, test_size = 0.2  )"
      ],
      "execution_count": 11,
      "outputs": []
    },
    {
      "cell_type": "code",
      "metadata": {
        "id": "d7BC4ZlLBoN0"
      },
      "source": [
        "from joblib import load"
      ],
      "execution_count": 12,
      "outputs": []
    },
    {
      "cell_type": "code",
      "metadata": {
        "id": "nKdmBwXbBoN0"
      },
      "source": [
        "#Rdanfom Forest; bigger tree\n",
        "rf_params={'max_depth': 15,\n",
        "           'max_features': 5,\n",
        "           'max_leaf_nodes': None,\n",
        "           'min_impurity_decrease': 0.0,\n",
        "           'min_samples_leaf': 3,\n",
        "           'min_samples_split': 6,\n",
        "           'n_estimators': 2000}\n",
        "\n",
        "xgb_params={'alpha': 0.01}\n",
        "\n",
        "#Random Forest; smaller tree\n",
        "rf_params2 = {'max_depth': 8,\n",
        "              'max_features': 11,\n",
        "              'max_leaf_nodes': None,\n",
        "              'min_impurity_decrease': 0.0,\n",
        "              'min_samples_leaf': 3,\n",
        "              'min_samples_split': 6,\n",
        "              'n_estimators': 2500}\n"
      ],
      "execution_count": 13,
      "outputs": []
    },
    {
      "cell_type": "code",
      "metadata": {
        "id": "DF3TwnHaBoN0"
      },
      "source": [
        "from sklearn.ensemble import RandomForestRegressor\n",
        "from xgboost import  XGBRegressor\n",
        "from sklearn.linear_model import LinearRegression"
      ],
      "execution_count": 14,
      "outputs": []
    },
    {
      "cell_type": "code",
      "metadata": {
        "id": "BUuwa65CBoN0"
      },
      "source": [
        "model_rf  = RandomForestRegressor(criterion='mse', oob_score=False, **rf_params, n_jobs=-1)\n",
        "\n",
        "\n",
        "model_xgb = XGBRegressor(booster = \"gblinear\", objective = \"reg:squarederror\",\n",
        "                               n_jobs = -1,\n",
        "                               **xgb_params)\n",
        "\n",
        "model_linear = LinearRegression()\n",
        "\n",
        "model_rf2  = RandomForestRegressor(criterion='mse', oob_score=False, **rf_params2)"
      ],
      "execution_count": 15,
      "outputs": []
    },
    {
      "cell_type": "code",
      "metadata": {
        "id": "mH2r-Z45BoN0",
        "colab": {
          "base_uri": "https://localhost:8080/"
        },
        "outputId": "f2dd42e4-a7dc-4b15-c20e-5f53edac2f70"
      },
      "source": [
        "model_rf.fit(Xtrain, ytrain)"
      ],
      "execution_count": null,
      "outputs": [
        {
          "output_type": "execute_result",
          "data": {
            "text/plain": [
              "RandomForestRegressor(bootstrap=True, ccp_alpha=0.0, criterion='mse',\n",
              "                      max_depth=15, max_features=5, max_leaf_nodes=None,\n",
              "                      max_samples=None, min_impurity_decrease=0.0,\n",
              "                      min_impurity_split=None, min_samples_leaf=3,\n",
              "                      min_samples_split=6, min_weight_fraction_leaf=0.0,\n",
              "                      n_estimators=2000, n_jobs=-1, oob_score=False,\n",
              "                      random_state=None, verbose=0, warm_start=False)"
            ]
          },
          "metadata": {
            "tags": []
          },
          "execution_count": 13
        }
      ]
    },
    {
      "cell_type": "code",
      "metadata": {
        "id": "2OJYSeOLBoN0",
        "colab": {
          "base_uri": "https://localhost:8080/"
        },
        "outputId": "7722c145-235f-445e-c80d-20c439c510f3"
      },
      "source": [
        "model_rf.fit(Xtrain, ytrain)\n",
        "model_xgb.fit(Xtrain, ytrain)"
      ],
      "execution_count": null,
      "outputs": [
        {
          "output_type": "execute_result",
          "data": {
            "text/plain": [
              "XGBRegressor(alpha=0.01, base_score=0.5, booster='gblinear',\n",
              "             colsample_bylevel=1, colsample_bynode=1, colsample_bytree=1,\n",
              "             gamma=0, importance_type='gain', learning_rate=0.1,\n",
              "             max_delta_step=0, max_depth=3, min_child_weight=1, missing=None,\n",
              "             n_estimators=100, n_jobs=-1, nthread=None,\n",
              "             objective='reg:squarederror', random_state=0, reg_alpha=0,\n",
              "             reg_lambda=1, scale_pos_weight=1, seed=None, silent=None,\n",
              "             subsample=1, verbosity=1)"
            ]
          },
          "metadata": {
            "tags": []
          },
          "execution_count": 14
        }
      ]
    },
    {
      "cell_type": "code",
      "metadata": {
        "id": "x0woS9tHBoN0",
        "colab": {
          "base_uri": "https://localhost:8080/"
        },
        "outputId": "4e4a8d53-d2eb-4a66-a7f1-adb8feb377be"
      },
      "source": [
        "model_rf2.fit(Xtrain, ytrain)\n",
        "model_linear.fit(Xtrain, ytrain)"
      ],
      "execution_count": null,
      "outputs": [
        {
          "output_type": "execute_result",
          "data": {
            "text/plain": [
              "LinearRegression(copy_X=True, fit_intercept=True, n_jobs=None, normalize=False)"
            ]
          },
          "metadata": {
            "tags": []
          },
          "execution_count": 15
        }
      ]
    },
    {
      "cell_type": "code",
      "metadata": {
        "id": "XcqHG2V_BoN0"
      },
      "source": [
        "from joblib import dump"
      ],
      "execution_count": null,
      "outputs": []
    },
    {
      "cell_type": "code",
      "metadata": {
        "id": "VhLu-eD2BoN0",
        "colab": {
          "base_uri": "https://localhost:8080/"
        },
        "outputId": "0c192e3c-0a67-40f9-d7af-f71018f94af7"
      },
      "source": [
        "dump(model_rf, 'gdrive/My Drive/Colab Notebooks/models/RandomForest_1.joblib')\n",
        "dump(model_xgb, 'gdrive/My Drive/Colab Notebooks/models/XGBoost.joblib')\n",
        "dump(model_rf2, 'gdrive/My Drive/Colab Notebooks/models/RandomForest_2.joblib')\n",
        "dump(model_linear, 'gdrive/My Drive/Colab Notebooks/models/Linear.joblib')"
      ],
      "execution_count": null,
      "outputs": [
        {
          "output_type": "execute_result",
          "data": {
            "text/plain": [
              "['gdrive/My Drive/Colab Notebooks/models/Linear.joblib']"
            ]
          },
          "metadata": {
            "tags": []
          },
          "execution_count": 18
        }
      ]
    },
    {
      "cell_type": "markdown",
      "metadata": {
        "id": "q8AxcwOeBoN0"
      },
      "source": [
        "## Ensemble model building"
      ]
    },
    {
      "cell_type": "code",
      "metadata": {
        "id": "gvxitr5XBoN0"
      },
      "source": [
        "from joblib import load"
      ],
      "execution_count": 16,
      "outputs": []
    },
    {
      "cell_type": "code",
      "metadata": {
        "id": "-WetBwY9BoN0"
      },
      "source": [
        "m_rf = load('gdrive/My Drive/Colab Notebooks/models/RandomForest_1.joblib')\n",
        "m_xgb = load('gdrive/My Drive/Colab Notebooks/models/XGBoost.joblib')\n",
        "m_rf2 = load('gdrive/My Drive/Colab Notebooks/models/RandomForest_2.joblib')\n",
        "m_lnr = load('gdrive/My Drive/Colab Notebooks/models/Linear.joblib')"
      ],
      "execution_count": 17,
      "outputs": []
    },
    {
      "cell_type": "code",
      "metadata": {
        "id": "frcY1DSMBoN0"
      },
      "source": [
        "models = [m_rf, m_xgb, m_rf2, m_lnr]"
      ],
      "execution_count": null,
      "outputs": []
    },
    {
      "cell_type": "code",
      "metadata": {
        "id": "YyyDZyMmBoN0"
      },
      "source": [
        "from functools import reduce\n",
        "\n",
        "def ensemble(X_, models, threshold = None):\n",
        "    if threshold == None:\n",
        "        threshold = (len(models))\n",
        "    predictions = []\n",
        "    for model in models:\n",
        "        predictions.append(pd.Series(model.predict(X_).reshape(-1)))\n",
        "    \n",
        "    y_sum = reduce(lambda x, y: x+y, predictions)\n",
        "    return y_sum.apply(lambda x: x/threshold)"
      ],
      "execution_count": null,
      "outputs": []
    },
    {
      "cell_type": "code",
      "metadata": {
        "id": "vx6sD4LvBoN0"
      },
      "source": [
        "y_pred = ensemble(Xtest, models)"
      ],
      "execution_count": null,
      "outputs": []
    },
    {
      "cell_type": "code",
      "metadata": {
        "id": "X7otYfaJBoN1",
        "colab": {
          "base_uri": "https://localhost:8080/"
        },
        "outputId": "8d881957-5672-46a8-942f-c4b355ab9738"
      },
      "source": [
        "from sklearn.metrics import mean_squared_error, r2_score \n",
        "import statsmodels.api as sm\n",
        "\n",
        "# model evaluation \n",
        "mse = mean_squared_error(ytest,y_pred) \n",
        "  \n",
        "rmse = np.sqrt(mean_squared_error(ytest, y_pred)) \n",
        "r2 = r2_score(ytest, y_pred) \n",
        "  \n",
        "# printing values \n",
        "print('MSE:',mse) \n",
        "print('Root mean squared error: ', rmse) \n",
        "print(\"R2 score : %.2f\" % r2_score(ytest,y_pred)) #0.77"
      ],
      "execution_count": null,
      "outputs": [
        {
          "output_type": "stream",
          "text": [
            "MSE: 0.05845076789912308\n",
            "Root mean squared error:  0.24176593618440767\n",
            "R2 score : 0.64\n"
          ],
          "name": "stdout"
        }
      ]
    },
    {
      "cell_type": "code",
      "metadata": {
        "id": "1W0BY4RJ9w6I"
      },
      "source": [
        "#m_rf.predict(Xtest)\n",
        "# m_xgb = load('gdrive/My Drive/Colab Notebooks/models/XGBoost.joblib')\n",
        "# m_rf2 = load('gdrive/My Drive/Colab Notebooks/models/RandomForest_2.joblib')\n",
        "# m_lnr = load('gdrive/My Drive/Colab Notebooks/models/Linear.joblib')"
      ],
      "execution_count": null,
      "outputs": []
    },
    {
      "cell_type": "markdown",
      "metadata": {
        "id": "hluslrIcbw-S"
      },
      "source": [
        "## Grid Searching - Random Forest"
      ]
    },
    {
      "cell_type": "code",
      "metadata": {
        "id": "i826CZofbvnt"
      },
      "source": [
        "\n",
        "grid_param={'max_depth': [10, 15, 20],\n",
        "           'max_features': [5, 10],\n",
        "           'min_samples_split': [6, 9],\n",
        "           'n_estimators': [1500, 2000, 2500]}\n"
      ],
      "execution_count": 19,
      "outputs": []
    },
    {
      "cell_type": "code",
      "metadata": {
        "id": "TLAHFYpM2ax7"
      },
      "source": [
        "from sklearn.model_selection import GridSearchCV\n",
        "\n",
        "gd_sr = GridSearchCV(estimator=model_rf,\n",
        "                     param_grid=grid_param,\n",
        "                     #scoring='accuracy',\n",
        "                     #cv=5,\n",
        "                     n_jobs=-1)"
      ],
      "execution_count": 20,
      "outputs": []
    },
    {
      "cell_type": "code",
      "metadata": {
        "colab": {
          "base_uri": "https://localhost:8080/"
        },
        "id": "cGdNGwK5Ae4X",
        "outputId": "39dc5136-019a-478e-c7dc-822b2d84876b"
      },
      "source": [
        "gd_sr.fit(Xtrain, ytrain)"
      ],
      "execution_count": null,
      "outputs": [
        {
          "output_type": "execute_result",
          "data": {
            "text/plain": [
              "GridSearchCV(cv=None, error_score=nan,\n",
              "             estimator=RandomForestRegressor(bootstrap=True, ccp_alpha=0.0,\n",
              "                                             criterion='mse', max_depth=15,\n",
              "                                             max_features=5,\n",
              "                                             max_leaf_nodes=None,\n",
              "                                             max_samples=None,\n",
              "                                             min_impurity_decrease=0.0,\n",
              "                                             min_impurity_split=None,\n",
              "                                             min_samples_leaf=3,\n",
              "                                             min_samples_split=6,\n",
              "                                             min_weight_fraction_leaf=0.0,\n",
              "                                             n_estimators=2000, n_jobs=-1,\n",
              "                                             oob_score=False, random_state=None,\n",
              "                                             verbose=0, warm_start=False),\n",
              "             iid='deprecated', n_jobs=-1,\n",
              "             param_grid={'max_depth': [10, 15, 20], 'max_features': [5, 10],\n",
              "                         'min_samples_split': [6, 9],\n",
              "                         'n_estimators': [1500, 2000, 2500]},\n",
              "             pre_dispatch='2*n_jobs', refit=True, return_train_score=False,\n",
              "             scoring=None, verbose=0)"
            ]
          },
          "metadata": {
            "tags": []
          },
          "execution_count": 28
        }
      ]
    },
    {
      "cell_type": "markdown",
      "metadata": {
        "id": "T8RdhLzFG6B7"
      },
      "source": [
        "## GridSearch - XGBoost"
      ]
    },
    {
      "cell_type": "code",
      "metadata": {
        "id": "LMRmbE63HDt-"
      },
      "source": [
        "            param_grid={\"learning_rate\": (0.05, 0.10, 0.15),\n",
        "                        \"max_depth\": [ 3, 4, 5, 6, 8],\n",
        "                        \"min_child_weight\": [ 1, 3, 5, 7],\n",
        "                        \"gamma\":[ 0.0, 0.1, 0.2],\n",
        "                        \"colsample_bytree\":[ 0.3, 0.4],}"
      ],
      "execution_count": 21,
      "outputs": []
    },
    {
      "cell_type": "code",
      "metadata": {
        "id": "Pcd_HdZuHAki"
      },
      "source": [
        "from sklearn.model_selection import GridSearchCV\n",
        "\n",
        "gd_sr_xgb = GridSearchCV(estimator=model_xgb,\n",
        "                     param_grid=param_grid,\n",
        "                     scoring='neg_mean_squared_error', verbose=0, n_jobs=-1)\n",
        "                     #cv=5\n",
        "\n",
        "\n"
      ],
      "execution_count": 22,
      "outputs": []
    },
    {
      "cell_type": "code",
      "metadata": {
        "colab": {
          "base_uri": "https://localhost:8080/"
        },
        "id": "pEACeNo2G49q",
        "outputId": "e54141ea-8520-4f77-967f-ec3d25a7dea4"
      },
      "source": [
        "gd_sr_xgb.fit(Xtrain, ytrain)"
      ],
      "execution_count": 23,
      "outputs": [
        {
          "output_type": "execute_result",
          "data": {
            "text/plain": [
              "GridSearchCV(cv=None, error_score=nan,\n",
              "             estimator=XGBRegressor(alpha=0.01, base_score=0.5,\n",
              "                                    booster='gblinear', colsample_bylevel=1,\n",
              "                                    colsample_bynode=1, colsample_bytree=1,\n",
              "                                    gamma=0, importance_type='gain',\n",
              "                                    learning_rate=0.1, max_delta_step=0,\n",
              "                                    max_depth=3, min_child_weight=1,\n",
              "                                    missing=None, n_estimators=100, n_jobs=-1,\n",
              "                                    nthread=None, objective='reg:squarederror',\n",
              "                                    random_s...da=1,\n",
              "                                    scale_pos_weight=1, seed=None, silent=None,\n",
              "                                    subsample=1, verbosity=1),\n",
              "             iid='deprecated', n_jobs=-1,\n",
              "             param_grid={'colsample_bytree': [0.3, 0.4],\n",
              "                         'gamma': [0.0, 0.1, 0.2],\n",
              "                         'learning_rate': (0.05, 0.1, 0.15),\n",
              "                         'max_depth': [3, 4, 5, 6, 8],\n",
              "                         'min_child_weight': [1, 3, 5, 7]},\n",
              "             pre_dispatch='2*n_jobs', refit=True, return_train_score=False,\n",
              "             scoring='neg_mean_squared_error', verbose=0)"
            ]
          },
          "metadata": {
            "tags": []
          },
          "execution_count": 23
        }
      ]
    },
    {
      "cell_type": "code",
      "metadata": {
        "colab": {
          "base_uri": "https://localhost:8080/"
        },
        "id": "moAcsgY4PKaT",
        "outputId": "de3f0451-6956-4d3e-e1ca-83956054d5e0"
      },
      "source": [
        "best_parameters = gd_sr_xgb.best_params_\n",
        "print(best_parameters) "
      ],
      "execution_count": 26,
      "outputs": [
        {
          "output_type": "stream",
          "text": [
            "{'colsample_bytree': 0.3, 'gamma': 0.0, 'learning_rate': 0.15, 'max_depth': 3, 'min_child_weight': 1}\n"
          ],
          "name": "stdout"
        }
      ]
    },
    {
      "cell_type": "markdown",
      "metadata": {
        "id": "zJRLh59nP7C8"
      },
      "source": [
        "## XGBoost model with best parameters"
      ]
    },
    {
      "cell_type": "code",
      "metadata": {
        "id": "0U-45DD5P-tq"
      },
      "source": [
        "            xgb_params3={\"learning_rate\": 0.15,\n",
        "                        \"max_depth\": 3,\n",
        "                        \"min_child_weight\": 1,\n",
        "                        \"gamma\": 0.0,\n",
        "                        \"colsample_bytree\":0.3}"
      ],
      "execution_count": 27,
      "outputs": []
    },
    {
      "cell_type": "code",
      "metadata": {
        "id": "VYCNDeBEQo3m"
      },
      "source": [
        "model_xgb3 = XGBRegressor(booster = \"gblinear\", objective = \"reg:squarederror\",\n",
        "                               n_jobs = -1,\n",
        "                               **xgb_params3)"
      ],
      "execution_count": 29,
      "outputs": []
    },
    {
      "cell_type": "code",
      "metadata": {
        "colab": {
          "base_uri": "https://localhost:8080/"
        },
        "id": "6xrsmJtsQ3dx",
        "outputId": "7908e7cc-50d1-4284-ce86-58b6621d2f4e"
      },
      "source": [
        "model_xgb3.fit(Xtrain, ytrain)"
      ],
      "execution_count": 30,
      "outputs": [
        {
          "output_type": "execute_result",
          "data": {
            "text/plain": [
              "XGBRegressor(base_score=0.5, booster='gblinear', colsample_bylevel=1,\n",
              "             colsample_bynode=1, colsample_bytree=0.3, gamma=0.0,\n",
              "             importance_type='gain', learning_rate=0.15, max_delta_step=0,\n",
              "             max_depth=3, min_child_weight=1, missing=None, n_estimators=100,\n",
              "             n_jobs=-1, nthread=None, objective='reg:squarederror',\n",
              "             random_state=0, reg_alpha=0, reg_lambda=1, scale_pos_weight=1,\n",
              "             seed=None, silent=None, subsample=1, verbosity=1)"
            ]
          },
          "metadata": {
            "tags": []
          },
          "execution_count": 30
        }
      ]
    },
    {
      "cell_type": "code",
      "metadata": {
        "colab": {
          "base_uri": "https://localhost:8080/"
        },
        "id": "4tIVir2KRRgv",
        "outputId": "e31a9b37-76d3-4448-c2f6-2ced75c2bea0"
      },
      "source": [
        "from sklearn.metrics import mean_squared_error, r2_score \n",
        "import statsmodels.api as sm\n",
        "\n",
        "m_xgb_pred3 = model_xgb3.predict(Xtest)\n",
        "\n",
        "# model evaluation \n",
        "mse = mean_squared_error(ytest,m_xgb_pred3) \n",
        "  \n",
        "rmse = np.sqrt(mean_squared_error(ytest, m_xgb_pred3)) \n",
        "r2 = r2_score(ytest, m_xgb_pred3) \n",
        "  \n",
        "# printing values \n",
        "print('MSE: %.3f'% mse) \n",
        "print('Root mean squared error: %.3f' % rmse)\n",
        "print(\"R2 score : %.2f\" % r2_score(ytest,m_xgb_pred3))"
      ],
      "execution_count": 34,
      "outputs": [
        {
          "output_type": "stream",
          "text": [
            "MSE: 0.132\n",
            "Root mean squared error: 0.363\n",
            "R2 score : 0.19\n"
          ],
          "name": "stdout"
        }
      ]
    },
    {
      "cell_type": "markdown",
      "metadata": {
        "id": "oB76NIOrP1Wp"
      },
      "source": [
        "## Random Forest regressor model with best parameters"
      ]
    },
    {
      "cell_type": "code",
      "metadata": {
        "colab": {
          "base_uri": "https://localhost:8080/",
          "height": 198
        },
        "id": "iO7DI7-KD8cn",
        "outputId": "2296c0a6-a484-48ae-8dbd-936091b4f282"
      },
      "source": [
        "best_parameters = gd_sr.best_params_\n",
        "print(best_parameters) \n",
        "#{'max_depth': 20, 'max_features': 10, 'min_samples_split': 6, 'n_estimators': 2000}"
      ],
      "execution_count": 24,
      "outputs": [
        {
          "output_type": "error",
          "ename": "AttributeError",
          "evalue": "ignored",
          "traceback": [
            "\u001b[0;31m---------------------------------------------------------------------------\u001b[0m",
            "\u001b[0;31mAttributeError\u001b[0m                            Traceback (most recent call last)",
            "\u001b[0;32m<ipython-input-24-75f419b07b6a>\u001b[0m in \u001b[0;36m<module>\u001b[0;34m()\u001b[0m\n\u001b[0;32m----> 1\u001b[0;31m \u001b[0mbest_parameters\u001b[0m \u001b[0;34m=\u001b[0m \u001b[0mgd_sr\u001b[0m\u001b[0;34m.\u001b[0m\u001b[0mbest_params_\u001b[0m\u001b[0;34m\u001b[0m\u001b[0;34m\u001b[0m\u001b[0m\n\u001b[0m\u001b[1;32m      2\u001b[0m \u001b[0mprint\u001b[0m\u001b[0;34m(\u001b[0m\u001b[0mbest_parameters\u001b[0m\u001b[0;34m)\u001b[0m\u001b[0;34m\u001b[0m\u001b[0;34m\u001b[0m\u001b[0m\n\u001b[1;32m      3\u001b[0m \u001b[0;31m#{'max_depth': 20, 'max_features': 10, 'min_samples_split': 6, 'n_estimators': 2000}\u001b[0m\u001b[0;34m\u001b[0m\u001b[0;34m\u001b[0m\u001b[0;34m\u001b[0m\u001b[0m\n",
            "\u001b[0;31mAttributeError\u001b[0m: 'GridSearchCV' object has no attribute 'best_params_'"
          ]
        }
      ]
    },
    {
      "cell_type": "code",
      "metadata": {
        "colab": {
          "base_uri": "https://localhost:8080/",
          "height": 181
        },
        "id": "0kgD_3AqEI14",
        "outputId": "47210e99-03d9-48fc-aff9-b3b4a39355c8"
      },
      "source": [
        "best_result = gd_sr.best_score_\n",
        "print(best_result)"
      ],
      "execution_count": 25,
      "outputs": [
        {
          "output_type": "error",
          "ename": "AttributeError",
          "evalue": "ignored",
          "traceback": [
            "\u001b[0;31m---------------------------------------------------------------------------\u001b[0m",
            "\u001b[0;31mAttributeError\u001b[0m                            Traceback (most recent call last)",
            "\u001b[0;32m<ipython-input-25-c9faf8dd9382>\u001b[0m in \u001b[0;36m<module>\u001b[0;34m()\u001b[0m\n\u001b[0;32m----> 1\u001b[0;31m \u001b[0mbest_result\u001b[0m \u001b[0;34m=\u001b[0m \u001b[0mgd_sr\u001b[0m\u001b[0;34m.\u001b[0m\u001b[0mbest_score_\u001b[0m\u001b[0;34m\u001b[0m\u001b[0;34m\u001b[0m\u001b[0m\n\u001b[0m\u001b[1;32m      2\u001b[0m \u001b[0mprint\u001b[0m\u001b[0;34m(\u001b[0m\u001b[0mbest_result\u001b[0m\u001b[0;34m)\u001b[0m\u001b[0;34m\u001b[0m\u001b[0;34m\u001b[0m\u001b[0m\n",
            "\u001b[0;31mAttributeError\u001b[0m: 'GridSearchCV' object has no attribute 'best_score_'"
          ]
        }
      ]
    },
    {
      "cell_type": "code",
      "metadata": {
        "id": "Ym94N_elQIjC"
      },
      "source": [
        "rf3_params={'max_depth': 20,\n",
        "           'max_features': 10,\n",
        "           'max_leaf_nodes': None,\n",
        "           'min_impurity_decrease': 0.0,\n",
        "           'min_samples_leaf': 3,\n",
        "           'min_samples_split': 6,\n",
        "           'n_estimators': 2000}"
      ],
      "execution_count": null,
      "outputs": []
    },
    {
      "cell_type": "code",
      "metadata": {
        "id": "tnt32qCUEPyD"
      },
      "source": [
        "model_rf3  = RandomForestRegressor(criterion='mse', oob_score=False, **rf3_params, n_jobs=-1)"
      ],
      "execution_count": null,
      "outputs": []
    },
    {
      "cell_type": "code",
      "metadata": {
        "id": "_R0HS0KlEwxu"
      },
      "source": [
        "model_rf3.fit(Xtrain, ytrain)"
      ],
      "execution_count": null,
      "outputs": []
    },
    {
      "cell_type": "code",
      "metadata": {
        "id": "QupF9JJOFz12"
      },
      "source": [
        "from sklearn.metrics import mean_squared_error, r2_score \n",
        "import statsmodels.api as sm\n",
        "\n",
        "model_rf3_pred = model_rf3.predict(Xtest)\n",
        "\n",
        "# model evaluation \n",
        "mse = mean_squared_error(ytest,model_rf3_pred) \n",
        "  \n",
        "rmse = np.sqrt(mean_squared_error(ytest, model_rf3_pred)) \n",
        "r2 = r2_score(ytest, model_rf3_pred) \n",
        "  \n",
        "# printing values \n",
        "print('MSE: %.3f' % mse) \n",
        "print('Root mean squared error: %.3f' % rmse)\n",
        "print(\"R2 score : %.2f\" % r2_score(ytest,model_rf3_pred))"
      ],
      "execution_count": null,
      "outputs": []
    },
    {
      "cell_type": "markdown",
      "metadata": {
        "id": "OtlxdNAl2bRS"
      },
      "source": [
        "## Cross validation with Random Forest Model 1"
      ]
    },
    {
      "cell_type": "code",
      "metadata": {
        "id": "wVn2EkAI2e6y"
      },
      "source": [
        "from sklearn.model_selection import cross_val_score\n",
        "all_accuracies = cross_val_score(estimator=model_rf, X=Xtrain, y=ytrain, cv=5)"
      ],
      "execution_count": null,
      "outputs": []
    },
    {
      "cell_type": "code",
      "metadata": {
        "colab": {
          "base_uri": "https://localhost:8080/"
        },
        "id": "Easjq5mj4Q9M",
        "outputId": "d07228e6-6085-4e87-89aa-df03095645b4"
      },
      "source": [
        "print(all_accuracies) ## [0.75635479 0.76686489 0.77316028 0.76032498 0.77959182]"
      ],
      "execution_count": null,
      "outputs": [
        {
          "output_type": "stream",
          "text": [
            "[0.75635479 0.76686489 0.77316028 0.76032498 0.77959182]\n"
          ],
          "name": "stdout"
        }
      ]
    },
    {
      "cell_type": "code",
      "metadata": {
        "colab": {
          "base_uri": "https://localhost:8080/"
        },
        "id": "yMeW7yFu4Zmz",
        "outputId": "36e8d85a-bcf7-4229-a9ef-4ebab2727697"
      },
      "source": [
        "print(all_accuracies.mean()) ##0.7672593511417624"
      ],
      "execution_count": null,
      "outputs": [
        {
          "output_type": "stream",
          "text": [
            "0.7672593511417624\n"
          ],
          "name": "stdout"
        }
      ]
    }
  ]
}